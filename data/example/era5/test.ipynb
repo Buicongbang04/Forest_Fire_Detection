{
 "cells": [
  {
   "cell_type": "code",
   "execution_count": 2,
   "id": "fb50a5ee",
   "metadata": {},
   "outputs": [],
   "source": [
    "import cdsapi"
   ]
  },
  {
   "cell_type": "markdown",
   "id": "c4a2544c",
   "metadata": {},
   "source": [
    "##### 1. `product_type`\n",
    "- **Mô tả:** Loại sản phẩm dữ liệu.\n",
    "- **Các giá trị khả dụng:**\n",
    "  - `'reanalysis'`: Dữ liệu đã được phân tích lại, chất lượng cao (dữ liệu chuẩn).\n",
    "  - `'reanalysis_era5t_preliminary_back_extension'`: Dữ liệu ERA5T gần thời gian thực, có thể thay đổi.\n",
    "- **Mặc định:** Không có, phải chỉ định.\n",
    "\n",
    "##### 2. `variable`\n",
    "- **Mô tả:** Các biến khí tượng muốn tải.\n",
    "- **Các giá trị khả dụng:** Rất nhiều. Đây là một vài ví dụ phổ biến:\n",
    "  - `mean_sea_level_pressure` (áp suất mực nước biển trung bình)\n",
    "  - `surface_pressure` (áp suất bề mặt)\n",
    "  - `total_cloud_cover` (tổng lượng mây che phủ)\n",
    "  - `soil_temperature_level_1` (nhiệt độ đất lớp 1)\n",
    "  - `sea_surface_temperature` (nhiệt độ mặt nước biển)\n",
    "  - ... và nhiều biến khác. Bạn có thể xem danh sách đầy đủ tại trang web của CDS cho dataset này.\n",
    "- **Mặc định:** Không có, phải chọn ít nhất một biến.\n",
    "\n",
    "##### 3. `year`\n",
    "- **Mô tả:** Năm của dữ liệu.\n",
    "- **Các giá trị khả dụng:**\n",
    "  - Một chuỗi ký tự: `'2020'`\n",
    "  - Một danh sách các chuỗi: `['2020', '2021', '2022']`\n",
    "  - Dữ liệu có từ năm 1940 đến hiện tại.\n",
    "- **Mặc định:** Không có, bắt buộc phải có.\n",
    "\n",
    "##### 4. `month`\n",
    "- **Mô tả:** Tháng trong năm.\n",
    "- **Các giá trị khả dụng:**\n",
    "  - Một chuỗi ký tự: `'01'`, `'02'`, ..., `'12'`\n",
    "  - Một danh sách các chuỗi: `['01', '06', '12']`\n",
    "- **Mặc định:** Không có, bắt buộc phải có.\n",
    "\n",
    "##### 5. `day`\n",
    "- **Mô tả:** Ngày trong tháng.\n",
    "- **Các giá trị khả dụng:**\n",
    "  - Một chuỗi ký tự: `'01'`, `'02'`, ..., `'31'`\n",
    "  - Một danh sách các chuỗi: `['01', '15', '31']`\n",
    "- **Mặc định:** Không có, bắt buộc phải có.\n",
    "\n",
    "##### 6. `time`\n",
    "- **Mô tả:** Thời gian trong ngày (theo giờ UTC).\n",
    "- **Các giá trị khả dụng:**\n",
    "  - Một chuỗi ký tự: `'00:00'`, `'01:00'`, ..., `'23:00'` (cách nhau 1 giờ).\n",
    "  - Một danh sách các chuỗi: `['00:00', '06:00', '12:00', '18:00']`\n",
    "- **Mặc định:** Không có, bắt buộc phải có.\n",
    "\n",
    "##### 7. `date`\n",
    "- **Mô tả:** Một cách khác để chọn khoảng thời gian. **Lưu ý:** Nếu dùng `date`, không nên dùng `year`, `month`, `day`.\n",
    "- **Các giá trị khả dụng:**\n",
    "  - Một chuỗi ký tự theo định dạng `YYYY-MM-DD/to/YYYY-MM-DD`. Ví dụ: `'2025-03-01/to/2025-03-10'`.\n",
    "- **Mặc định:** Không được sử dụng nếu `year`, `month`, `day` đã được cung cấp.\n",
    "\n",
    "##### 8. `area`\n",
    "- **Mô tả:** Vùng địa lý muốn lấy dữ liệu, theo định dạng `[Bắc, Tây, Nam, Đông]`.\n",
    "- **Các giá trị khả dụng:** Một danh sách 4 số (số nguyên hoặc số thực).\n",
    "  - Vĩ độ (Bắc, Nam): từ -90 đến 90.\n",
    "  - Kinh độ (Tây, Đông): từ -180 đến 180.\n",
    "- **Mặc định:** Toàn cầu (nếu không được chỉ định).\n",
    "\n",
    "##### 9. `format`\n",
    "- **Mô tả:** Định dạng file đầu ra.\n",
    "- **Các giá trị khả dụng:**\n",
    "  - `'netcdf'`: Định dạng NetCDF (khuyến nghị cho xarray). File sẽ là `.nc`.\n",
    "  - `'grib'`: Định dạng GRIB. File sẽ là `.grib`.\n",
    "- **Mặc định:** `'grib'`\n",
    "\n",
    "##### 10. `grid`\n",
    "- **Mô tả:** Độ phân giải của lưới dữ liệu (tính bằng độ).\n",
    "- **Các giá trị khả dụng:** Một danh sách 2 số `[vĩ độ, kinh độ]`. Ví dụ: `[0.25, 0.25]`.\n",
    "- **Mặc định:** `[0.25, 0.25]` (độ phân giải gốc của ERA5)."
   ]
  },
  {
   "cell_type": "code",
   "execution_count": null,
   "id": "f51e2912",
   "metadata": {},
   "outputs": [
    {
     "name": "stderr",
     "output_type": "stream",
     "text": [
      "2025-09-18 15:46:01,866 INFO Request ID is d13158d7-d73a-4e63-a7c9-2bcf0fd82639\n",
      "2025-09-18 15:46:02,209 INFO status has been updated to accepted\n",
      "2025-09-18 15:46:11,665 INFO status has been updated to successful\n"
     ]
    },
    {
     "data": {
      "application/vnd.jupyter.widget-view+json": {
       "model_id": "35433843d3d9476faaa0784f3462376b",
       "version_major": 2,
       "version_minor": 0
      },
      "text/plain": [
       "171ca24e6e71c119bff3d7daf9be1a98.zip:   0%|          | 0.00/95.6k [00:00<?, ?B/s]"
      ]
     },
     "metadata": {},
     "output_type": "display_data"
    },
    {
     "data": {
      "text/plain": [
       "'download.zip'"
      ]
     },
     "execution_count": 21,
     "metadata": {},
     "output_type": "execute_result"
    }
   ],
   "source": [
    "c = cdsapi.Client()\n",
    "\n",
    "dataset = 'reanalysis-era5-single-levels'\n",
    "request = {\n",
    "     'product_type': 'reanalysis',\n",
    "     'variable': [\n",
    "            '2m_temperature', # 2 meter temperature\n",
    "            '2m_dewpoint_temperature', # 2 meter dewpoint temperature\n",
    "            '10m_u_component_of_wind', # 10 meter U wind component\n",
    "            '10m_v_component_of_wind', # 10 meter V wind component\n",
    "            'total_precipitation' # 1 hour accumulated\n",
    "        ],\n",
    "     'year': '2025', # Year\n",
    "     'month': '03', # Month\n",
    "     'day': '01', # Day\n",
    "     'time': '12:00', # UTC time - if you want multiple times, use a list of strings: ['00:00', '06:00', '12:00', '18:00']\n",
    "     # 'date': '2025-03-01/to/2025-03-10', # Date range\n",
    "     'area': [24, 102, 8, 110], # North, West, South, East\n",
    "     'format': 'netcdf', \n",
    "     # 'grid': [0.25, 0.25], # Grid resolution\n",
    "}\n",
    "target = 'download.zip'\n",
    "\n",
    "c.retrieve(dataset, request, target)"
   ]
  },
  {
   "cell_type": "code",
   "execution_count": 2,
   "id": "bf2534c9",
   "metadata": {},
   "outputs": [],
   "source": [
    "import xarray as xr\n",
    "import pandas as pd"
   ]
  },
  {
   "cell_type": "code",
   "execution_count": 25,
   "id": "7a5c3954",
   "metadata": {},
   "outputs": [
    {
     "name": "stdout",
     "output_type": "stream",
     "text": [
      "<xarray.Dataset>\n",
      "Dimensions:     (valid_time: 1, latitude: 65, longitude: 33)\n",
      "Coordinates:\n",
      "    number      int64 ...\n",
      "  * valid_time  (valid_time) datetime64[ns] 2025-03-01T12:00:00\n",
      "  * latitude    (latitude) float64 24.0 23.75 23.5 23.25 ... 8.75 8.5 8.25 8.0\n",
      "  * longitude   (longitude) float64 102.0 102.2 102.5 ... 109.5 109.8 110.0\n",
      "    expver      object ...\n",
      "Data variables:\n",
      "    t2m         (valid_time, latitude, longitude) float32 ...\n",
      "    d2m         (valid_time, latitude, longitude) float32 ...\n",
      "    u10         (valid_time, latitude, longitude) float32 ...\n",
      "    v10         (valid_time, latitude, longitude) float32 ...\n",
      "Attributes:\n",
      "    GRIB_centre:             ecmf\n",
      "    GRIB_centreDescription:  European Centre for Medium-Range Weather Forecasts\n",
      "    GRIB_subCentre:          0\n",
      "    Conventions:             CF-1.7\n",
      "    institution:             European Centre for Medium-Range Weather Forecasts\n",
      "    history:                 2025-09-18T08:38 GRIB to CDM+CF via cfgrib-0.9.1...\n"
     ]
    }
   ],
   "source": [
    "# mở file instant\n",
    "ds_instant = xr.open_dataset(\"data_stream-oper_stepType-instant.nc\", engine='netcdf4')\n",
    "print(ds_instant)"
   ]
  },
  {
   "cell_type": "code",
   "execution_count": null,
   "id": "b62097cf",
   "metadata": {},
   "outputs": [
    {
     "name": "stdout",
     "output_type": "stream",
     "text": [
      "<xarray.Dataset>\n",
      "Dimensions:     (valid_time: 1, latitude: 65, longitude: 33)\n",
      "Coordinates:\n",
      "    number      int64 ...\n",
      "  * valid_time  (valid_time) datetime64[ns] 2025-03-01T12:00:00\n",
      "  * latitude    (latitude) float64 24.0 23.75 23.5 23.25 ... 8.75 8.5 8.25 8.0\n",
      "  * longitude   (longitude) float64 102.0 102.2 102.5 ... 109.5 109.8 110.0\n",
      "    expver      object ...\n",
      "Data variables:\n",
      "    tp          (valid_time, latitude, longitude) float32 ...\n",
      "Attributes:\n",
      "    GRIB_centre:             ecmf\n",
      "    GRIB_centreDescription:  European Centre for Medium-Range Weather Forecasts\n",
      "    GRIB_subCentre:          0\n",
      "    Conventions:             CF-1.7\n",
      "    institution:             European Centre for Medium-Range Weather Forecasts\n",
      "    history:                 2025-09-18T08:38 GRIB to CDM+CF via cfgrib-0.9.1...\n"
     ]
    }
   ],
   "source": [
    "# mở file accum\n",
    "ds_accum = xr.open_dataset(\"data_stream-oper_stepType-accum.nc\", engine='netcdf4')\n",
    "print(ds_accum)"
   ]
  },
  {
   "cell_type": "code",
   "execution_count": null,
   "id": "3d1dc11b",
   "metadata": {},
   "outputs": [
    {
     "name": "stdout",
     "output_type": "stream",
     "text": [
      "<xarray.Dataset>\n",
      "Dimensions:     (valid_time: 1, latitude: 65, longitude: 33)\n",
      "Coordinates:\n",
      "    number      int64 0\n",
      "  * valid_time  (valid_time) datetime64[ns] 2025-03-01T12:00:00\n",
      "  * latitude    (latitude) float64 24.0 23.75 23.5 23.25 ... 8.75 8.5 8.25 8.0\n",
      "  * longitude   (longitude) float64 102.0 102.2 102.5 ... 109.5 109.8 110.0\n",
      "    expver      <U4 '0001'\n",
      "Data variables:\n",
      "    t2m         (valid_time, latitude, longitude) float32 ...\n",
      "    d2m         (valid_time, latitude, longitude) float32 ...\n",
      "    u10         (valid_time, latitude, longitude) float32 ...\n",
      "    v10         (valid_time, latitude, longitude) float32 ...\n",
      "    tp          (valid_time, latitude, longitude) float32 ...\n",
      "Attributes:\n",
      "    GRIB_centre:             ecmf\n",
      "    GRIB_centreDescription:  European Centre for Medium-Range Weather Forecasts\n",
      "    GRIB_subCentre:          0\n",
      "    Conventions:             CF-1.7\n",
      "    institution:             European Centre for Medium-Range Weather Forecasts\n",
      "    history:                 2025-09-18T08:38 GRIB to CDM+CF via cfgrib-0.9.1...\n"
     ]
    }
   ],
   "source": [
    "# gộp 2 dataset\n",
    "ds = xr.merge([ds_instant, ds_accum])\n",
    "print(ds)"
   ]
  },
  {
   "cell_type": "code",
   "execution_count": 31,
   "id": "d085f2e7",
   "metadata": {},
   "outputs": [
    {
     "data": {
      "text/html": [
       "<div>\n",
       "<style scoped>\n",
       "    .dataframe tbody tr th:only-of-type {\n",
       "        vertical-align: middle;\n",
       "    }\n",
       "\n",
       "    .dataframe tbody tr th {\n",
       "        vertical-align: top;\n",
       "    }\n",
       "\n",
       "    .dataframe thead th {\n",
       "        text-align: right;\n",
       "    }\n",
       "</style>\n",
       "<table border=\"1\" class=\"dataframe\">\n",
       "  <thead>\n",
       "    <tr style=\"text-align: right;\">\n",
       "      <th></th>\n",
       "      <th>valid_time</th>\n",
       "      <th>latitude</th>\n",
       "      <th>longitude</th>\n",
       "      <th>number</th>\n",
       "      <th>expver</th>\n",
       "      <th>t2m</th>\n",
       "      <th>d2m</th>\n",
       "      <th>u10</th>\n",
       "      <th>v10</th>\n",
       "      <th>tp</th>\n",
       "    </tr>\n",
       "  </thead>\n",
       "  <tbody>\n",
       "    <tr>\n",
       "      <th>0</th>\n",
       "      <td>2025-03-01 12:00:00</td>\n",
       "      <td>24.0</td>\n",
       "      <td>102.00</td>\n",
       "      <td>0</td>\n",
       "      <td>0001</td>\n",
       "      <td>295.443115</td>\n",
       "      <td>278.860352</td>\n",
       "      <td>1.968323</td>\n",
       "      <td>1.546448</td>\n",
       "      <td>0.0</td>\n",
       "    </tr>\n",
       "    <tr>\n",
       "      <th>1</th>\n",
       "      <td>2025-03-01 12:00:00</td>\n",
       "      <td>24.0</td>\n",
       "      <td>102.25</td>\n",
       "      <td>0</td>\n",
       "      <td>0001</td>\n",
       "      <td>293.859131</td>\n",
       "      <td>277.825195</td>\n",
       "      <td>1.513245</td>\n",
       "      <td>1.536682</td>\n",
       "      <td>0.0</td>\n",
       "    </tr>\n",
       "    <tr>\n",
       "      <th>2</th>\n",
       "      <td>2025-03-01 12:00:00</td>\n",
       "      <td>24.0</td>\n",
       "      <td>102.50</td>\n",
       "      <td>0</td>\n",
       "      <td>0001</td>\n",
       "      <td>294.734131</td>\n",
       "      <td>275.725586</td>\n",
       "      <td>2.104065</td>\n",
       "      <td>1.878479</td>\n",
       "      <td>0.0</td>\n",
       "    </tr>\n",
       "    <tr>\n",
       "      <th>3</th>\n",
       "      <td>2025-03-01 12:00:00</td>\n",
       "      <td>24.0</td>\n",
       "      <td>102.75</td>\n",
       "      <td>0</td>\n",
       "      <td>0001</td>\n",
       "      <td>295.066162</td>\n",
       "      <td>275.834961</td>\n",
       "      <td>2.188049</td>\n",
       "      <td>1.862854</td>\n",
       "      <td>0.0</td>\n",
       "    </tr>\n",
       "    <tr>\n",
       "      <th>4</th>\n",
       "      <td>2025-03-01 12:00:00</td>\n",
       "      <td>24.0</td>\n",
       "      <td>103.00</td>\n",
       "      <td>0</td>\n",
       "      <td>0001</td>\n",
       "      <td>295.425537</td>\n",
       "      <td>277.348633</td>\n",
       "      <td>1.754456</td>\n",
       "      <td>1.806213</td>\n",
       "      <td>0.0</td>\n",
       "    </tr>\n",
       "  </tbody>\n",
       "</table>\n",
       "</div>"
      ],
      "text/plain": [
       "           valid_time  latitude  longitude  number expver         t2m  \\\n",
       "0 2025-03-01 12:00:00      24.0     102.00       0   0001  295.443115   \n",
       "1 2025-03-01 12:00:00      24.0     102.25       0   0001  293.859131   \n",
       "2 2025-03-01 12:00:00      24.0     102.50       0   0001  294.734131   \n",
       "3 2025-03-01 12:00:00      24.0     102.75       0   0001  295.066162   \n",
       "4 2025-03-01 12:00:00      24.0     103.00       0   0001  295.425537   \n",
       "\n",
       "          d2m       u10       v10   tp  \n",
       "0  278.860352  1.968323  1.546448  0.0  \n",
       "1  277.825195  1.513245  1.536682  0.0  \n",
       "2  275.725586  2.104065  1.878479  0.0  \n",
       "3  275.834961  2.188049  1.862854  0.0  \n",
       "4  277.348633  1.754456  1.806213  0.0  "
      ]
     },
     "execution_count": 31,
     "metadata": {},
     "output_type": "execute_result"
    }
   ],
   "source": [
    "# chuyển sang dataframe\n",
    "df = ds.to_dataframe().reset_index()\n",
    "\n",
    "# lưu csv\n",
    "df.to_csv(\"era5_merged.csv\", index=False)\n",
    "\n",
    "df.head()"
   ]
  },
  {
   "cell_type": "code",
   "execution_count": 4,
   "id": "3a752ece",
   "metadata": {},
   "outputs": [
    {
     "name": "stdout",
     "output_type": "stream",
     "text": [
      "<class 'pandas.core.frame.DataFrame'>\n",
      "RangeIndex: 2145 entries, 0 to 2144\n",
      "Data columns (total 10 columns):\n",
      " #   Column      Non-Null Count  Dtype  \n",
      "---  ------      --------------  -----  \n",
      " 0   valid_time  2145 non-null   object \n",
      " 1   latitude    2145 non-null   float64\n",
      " 2   longitude   2145 non-null   float64\n",
      " 3   number      2145 non-null   int64  \n",
      " 4   expver      2145 non-null   int64  \n",
      " 5   t2m         2145 non-null   float64\n",
      " 6   d2m         2145 non-null   float64\n",
      " 7   u10         2145 non-null   float64\n",
      " 8   v10         2145 non-null   float64\n",
      " 9   tp          2145 non-null   float64\n",
      "dtypes: float64(7), int64(2), object(1)\n",
      "memory usage: 167.7+ KB\n"
     ]
    }
   ],
   "source": [
    "df = pd.read_csv('era5_merged.csv')\n",
    "df.info()"
   ]
  },
  {
   "cell_type": "code",
   "execution_count": null,
   "id": "b90ffc05",
   "metadata": {},
   "outputs": [],
   "source": []
  }
 ],
 "metadata": {
  "kernelspec": {
   "display_name": "base",
   "language": "python",
   "name": "python3"
  },
  "language_info": {
   "codemirror_mode": {
    "name": "ipython",
    "version": 3
   },
   "file_extension": ".py",
   "mimetype": "text/x-python",
   "name": "python",
   "nbconvert_exporter": "python",
   "pygments_lexer": "ipython3",
   "version": "3.11.5"
  }
 },
 "nbformat": 4,
 "nbformat_minor": 5
}
