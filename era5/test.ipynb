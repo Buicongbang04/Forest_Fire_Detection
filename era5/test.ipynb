{
 "cells": [
  {
   "cell_type": "code",
   "execution_count": 2,
   "id": "fb50a5ee",
   "metadata": {},
   "outputs": [],
   "source": [
    "import cdsapi"
   ]
  },
  {
   "cell_type": "code",
   "execution_count": null,
   "id": "f51e2912",
   "metadata": {},
   "outputs": [
    {
     "name": "stderr",
     "output_type": "stream",
     "text": [
      "2025-09-18 15:46:01,866 INFO Request ID is d13158d7-d73a-4e63-a7c9-2bcf0fd82639\n",
      "2025-09-18 15:46:02,209 INFO status has been updated to accepted\n",
      "2025-09-18 15:46:11,665 INFO status has been updated to successful\n"
     ]
    },
    {
     "data": {
      "application/vnd.jupyter.widget-view+json": {
       "model_id": "35433843d3d9476faaa0784f3462376b",
       "version_major": 2,
       "version_minor": 0
      },
      "text/plain": [
       "171ca24e6e71c119bff3d7daf9be1a98.zip:   0%|          | 0.00/95.6k [00:00<?, ?B/s]"
      ]
     },
     "metadata": {},
     "output_type": "display_data"
    },
    {
     "data": {
      "text/plain": [
       "'download.zip'"
      ]
     },
     "execution_count": 21,
     "metadata": {},
     "output_type": "execute_result"
    }
   ],
   "source": [
    "c = cdsapi.Client()\n",
    "\n",
    "dataset = 'reanalysis-era5-single-levels'\n",
    "request = {\n",
    "     'product_type': 'reanalysis',\n",
    "     'variable': [\n",
    "            '2m_temperature',\n",
    "            '2m_dewpoint_temperature',\n",
    "            '10m_u_component_of_wind',\n",
    "            '10m_v_component_of_wind',\n",
    "            'total_precipitation'\n",
    "        ],\n",
    "     'year': '2025',\n",
    "     'month': '03',\n",
    "     'day': '01',\n",
    "     'time': '12:00',\n",
    "     'area': [24, 102, 8, 110],\n",
    "     'format': 'netcdf', \n",
    "}\n",
    "target = 'download.zip'\n",
    "\n",
    "c.retrieve(dataset, request, target)"
   ]
  },
  {
   "cell_type": "code",
   "execution_count": 2,
   "id": "bf2534c9",
   "metadata": {},
   "outputs": [],
   "source": [
    "import xarray as xr\n",
    "import pandas as pd"
   ]
  },
  {
   "cell_type": "code",
   "execution_count": 25,
   "id": "7a5c3954",
   "metadata": {},
   "outputs": [
    {
     "name": "stdout",
     "output_type": "stream",
     "text": [
      "<xarray.Dataset>\n",
      "Dimensions:     (valid_time: 1, latitude: 65, longitude: 33)\n",
      "Coordinates:\n",
      "    number      int64 ...\n",
      "  * valid_time  (valid_time) datetime64[ns] 2025-03-01T12:00:00\n",
      "  * latitude    (latitude) float64 24.0 23.75 23.5 23.25 ... 8.75 8.5 8.25 8.0\n",
      "  * longitude   (longitude) float64 102.0 102.2 102.5 ... 109.5 109.8 110.0\n",
      "    expver      object ...\n",
      "Data variables:\n",
      "    t2m         (valid_time, latitude, longitude) float32 ...\n",
      "    d2m         (valid_time, latitude, longitude) float32 ...\n",
      "    u10         (valid_time, latitude, longitude) float32 ...\n",
      "    v10         (valid_time, latitude, longitude) float32 ...\n",
      "Attributes:\n",
      "    GRIB_centre:             ecmf\n",
      "    GRIB_centreDescription:  European Centre for Medium-Range Weather Forecasts\n",
      "    GRIB_subCentre:          0\n",
      "    Conventions:             CF-1.7\n",
      "    institution:             European Centre for Medium-Range Weather Forecasts\n",
      "    history:                 2025-09-18T08:38 GRIB to CDM+CF via cfgrib-0.9.1...\n"
     ]
    }
   ],
   "source": [
    "# mở file instant\n",
    "ds_instant = xr.open_dataset(\"data_stream-oper_stepType-instant.nc\", engine='netcdf4')\n",
    "print(ds_instant)"
   ]
  },
  {
   "cell_type": "code",
   "execution_count": null,
   "id": "b62097cf",
   "metadata": {},
   "outputs": [
    {
     "name": "stdout",
     "output_type": "stream",
     "text": [
      "<xarray.Dataset>\n",
      "Dimensions:     (valid_time: 1, latitude: 65, longitude: 33)\n",
      "Coordinates:\n",
      "    number      int64 ...\n",
      "  * valid_time  (valid_time) datetime64[ns] 2025-03-01T12:00:00\n",
      "  * latitude    (latitude) float64 24.0 23.75 23.5 23.25 ... 8.75 8.5 8.25 8.0\n",
      "  * longitude   (longitude) float64 102.0 102.2 102.5 ... 109.5 109.8 110.0\n",
      "    expver      object ...\n",
      "Data variables:\n",
      "    tp          (valid_time, latitude, longitude) float32 ...\n",
      "Attributes:\n",
      "    GRIB_centre:             ecmf\n",
      "    GRIB_centreDescription:  European Centre for Medium-Range Weather Forecasts\n",
      "    GRIB_subCentre:          0\n",
      "    Conventions:             CF-1.7\n",
      "    institution:             European Centre for Medium-Range Weather Forecasts\n",
      "    history:                 2025-09-18T08:38 GRIB to CDM+CF via cfgrib-0.9.1...\n"
     ]
    }
   ],
   "source": [
    "# mở file accum\n",
    "ds_accum = xr.open_dataset(\"data_stream-oper_stepType-accum.nc\", engine='netcdf4')\n",
    "print(ds_accum)"
   ]
  },
  {
   "cell_type": "code",
   "execution_count": null,
   "id": "3d1dc11b",
   "metadata": {},
   "outputs": [
    {
     "name": "stdout",
     "output_type": "stream",
     "text": [
      "<xarray.Dataset>\n",
      "Dimensions:     (valid_time: 1, latitude: 65, longitude: 33)\n",
      "Coordinates:\n",
      "    number      int64 0\n",
      "  * valid_time  (valid_time) datetime64[ns] 2025-03-01T12:00:00\n",
      "  * latitude    (latitude) float64 24.0 23.75 23.5 23.25 ... 8.75 8.5 8.25 8.0\n",
      "  * longitude   (longitude) float64 102.0 102.2 102.5 ... 109.5 109.8 110.0\n",
      "    expver      <U4 '0001'\n",
      "Data variables:\n",
      "    t2m         (valid_time, latitude, longitude) float32 ...\n",
      "    d2m         (valid_time, latitude, longitude) float32 ...\n",
      "    u10         (valid_time, latitude, longitude) float32 ...\n",
      "    v10         (valid_time, latitude, longitude) float32 ...\n",
      "    tp          (valid_time, latitude, longitude) float32 ...\n",
      "Attributes:\n",
      "    GRIB_centre:             ecmf\n",
      "    GRIB_centreDescription:  European Centre for Medium-Range Weather Forecasts\n",
      "    GRIB_subCentre:          0\n",
      "    Conventions:             CF-1.7\n",
      "    institution:             European Centre for Medium-Range Weather Forecasts\n",
      "    history:                 2025-09-18T08:38 GRIB to CDM+CF via cfgrib-0.9.1...\n"
     ]
    }
   ],
   "source": [
    "# gộp 2 dataset\n",
    "ds = xr.merge([ds_instant, ds_accum])\n",
    "print(ds)"
   ]
  },
  {
   "cell_type": "code",
   "execution_count": 31,
   "id": "d085f2e7",
   "metadata": {},
   "outputs": [
    {
     "data": {
      "text/html": [
       "<div>\n",
       "<style scoped>\n",
       "    .dataframe tbody tr th:only-of-type {\n",
       "        vertical-align: middle;\n",
       "    }\n",
       "\n",
       "    .dataframe tbody tr th {\n",
       "        vertical-align: top;\n",
       "    }\n",
       "\n",
       "    .dataframe thead th {\n",
       "        text-align: right;\n",
       "    }\n",
       "</style>\n",
       "<table border=\"1\" class=\"dataframe\">\n",
       "  <thead>\n",
       "    <tr style=\"text-align: right;\">\n",
       "      <th></th>\n",
       "      <th>valid_time</th>\n",
       "      <th>latitude</th>\n",
       "      <th>longitude</th>\n",
       "      <th>number</th>\n",
       "      <th>expver</th>\n",
       "      <th>t2m</th>\n",
       "      <th>d2m</th>\n",
       "      <th>u10</th>\n",
       "      <th>v10</th>\n",
       "      <th>tp</th>\n",
       "    </tr>\n",
       "  </thead>\n",
       "  <tbody>\n",
       "    <tr>\n",
       "      <th>0</th>\n",
       "      <td>2025-03-01 12:00:00</td>\n",
       "      <td>24.0</td>\n",
       "      <td>102.00</td>\n",
       "      <td>0</td>\n",
       "      <td>0001</td>\n",
       "      <td>295.443115</td>\n",
       "      <td>278.860352</td>\n",
       "      <td>1.968323</td>\n",
       "      <td>1.546448</td>\n",
       "      <td>0.0</td>\n",
       "    </tr>\n",
       "    <tr>\n",
       "      <th>1</th>\n",
       "      <td>2025-03-01 12:00:00</td>\n",
       "      <td>24.0</td>\n",
       "      <td>102.25</td>\n",
       "      <td>0</td>\n",
       "      <td>0001</td>\n",
       "      <td>293.859131</td>\n",
       "      <td>277.825195</td>\n",
       "      <td>1.513245</td>\n",
       "      <td>1.536682</td>\n",
       "      <td>0.0</td>\n",
       "    </tr>\n",
       "    <tr>\n",
       "      <th>2</th>\n",
       "      <td>2025-03-01 12:00:00</td>\n",
       "      <td>24.0</td>\n",
       "      <td>102.50</td>\n",
       "      <td>0</td>\n",
       "      <td>0001</td>\n",
       "      <td>294.734131</td>\n",
       "      <td>275.725586</td>\n",
       "      <td>2.104065</td>\n",
       "      <td>1.878479</td>\n",
       "      <td>0.0</td>\n",
       "    </tr>\n",
       "    <tr>\n",
       "      <th>3</th>\n",
       "      <td>2025-03-01 12:00:00</td>\n",
       "      <td>24.0</td>\n",
       "      <td>102.75</td>\n",
       "      <td>0</td>\n",
       "      <td>0001</td>\n",
       "      <td>295.066162</td>\n",
       "      <td>275.834961</td>\n",
       "      <td>2.188049</td>\n",
       "      <td>1.862854</td>\n",
       "      <td>0.0</td>\n",
       "    </tr>\n",
       "    <tr>\n",
       "      <th>4</th>\n",
       "      <td>2025-03-01 12:00:00</td>\n",
       "      <td>24.0</td>\n",
       "      <td>103.00</td>\n",
       "      <td>0</td>\n",
       "      <td>0001</td>\n",
       "      <td>295.425537</td>\n",
       "      <td>277.348633</td>\n",
       "      <td>1.754456</td>\n",
       "      <td>1.806213</td>\n",
       "      <td>0.0</td>\n",
       "    </tr>\n",
       "  </tbody>\n",
       "</table>\n",
       "</div>"
      ],
      "text/plain": [
       "           valid_time  latitude  longitude  number expver         t2m  \\\n",
       "0 2025-03-01 12:00:00      24.0     102.00       0   0001  295.443115   \n",
       "1 2025-03-01 12:00:00      24.0     102.25       0   0001  293.859131   \n",
       "2 2025-03-01 12:00:00      24.0     102.50       0   0001  294.734131   \n",
       "3 2025-03-01 12:00:00      24.0     102.75       0   0001  295.066162   \n",
       "4 2025-03-01 12:00:00      24.0     103.00       0   0001  295.425537   \n",
       "\n",
       "          d2m       u10       v10   tp  \n",
       "0  278.860352  1.968323  1.546448  0.0  \n",
       "1  277.825195  1.513245  1.536682  0.0  \n",
       "2  275.725586  2.104065  1.878479  0.0  \n",
       "3  275.834961  2.188049  1.862854  0.0  \n",
       "4  277.348633  1.754456  1.806213  0.0  "
      ]
     },
     "execution_count": 31,
     "metadata": {},
     "output_type": "execute_result"
    }
   ],
   "source": [
    "# chuyển sang dataframe\n",
    "df = ds.to_dataframe().reset_index()\n",
    "\n",
    "# lưu csv\n",
    "df.to_csv(\"era5_merged.csv\", index=False)\n",
    "\n",
    "df.head()"
   ]
  },
  {
   "cell_type": "code",
   "execution_count": 4,
   "id": "3a752ece",
   "metadata": {},
   "outputs": [
    {
     "name": "stdout",
     "output_type": "stream",
     "text": [
      "<class 'pandas.core.frame.DataFrame'>\n",
      "RangeIndex: 2145 entries, 0 to 2144\n",
      "Data columns (total 10 columns):\n",
      " #   Column      Non-Null Count  Dtype  \n",
      "---  ------      --------------  -----  \n",
      " 0   valid_time  2145 non-null   object \n",
      " 1   latitude    2145 non-null   float64\n",
      " 2   longitude   2145 non-null   float64\n",
      " 3   number      2145 non-null   int64  \n",
      " 4   expver      2145 non-null   int64  \n",
      " 5   t2m         2145 non-null   float64\n",
      " 6   d2m         2145 non-null   float64\n",
      " 7   u10         2145 non-null   float64\n",
      " 8   v10         2145 non-null   float64\n",
      " 9   tp          2145 non-null   float64\n",
      "dtypes: float64(7), int64(2), object(1)\n",
      "memory usage: 167.7+ KB\n"
     ]
    }
   ],
   "source": [
    "df = pd.read_csv('era5_merged.csv')\n",
    "df.info()"
   ]
  },
  {
   "cell_type": "code",
   "execution_count": null,
   "id": "b90ffc05",
   "metadata": {},
   "outputs": [],
   "source": []
  }
 ],
 "metadata": {
  "kernelspec": {
   "display_name": "base",
   "language": "python",
   "name": "python3"
  },
  "language_info": {
   "codemirror_mode": {
    "name": "ipython",
    "version": 3
   },
   "file_extension": ".py",
   "mimetype": "text/x-python",
   "name": "python",
   "nbconvert_exporter": "python",
   "pygments_lexer": "ipython3",
   "version": "3.11.5"
  }
 },
 "nbformat": 4,
 "nbformat_minor": 5
}
