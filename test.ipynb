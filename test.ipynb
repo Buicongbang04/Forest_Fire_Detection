{
 "cells": [
  {
   "cell_type": "code",
   "execution_count": 1,
   "id": "fb50a5ee",
   "metadata": {},
   "outputs": [],
   "source": [
    "import cdsapi"
   ]
  },
  {
   "cell_type": "code",
   "execution_count": 5,
   "id": "f51e2912",
   "metadata": {},
   "outputs": [
    {
     "name": "stdout",
     "output_type": "stream",
     "text": [
      "Downloading 2000...\n"
     ]
    },
    {
     "name": "stderr",
     "output_type": "stream",
     "text": [
      "2025-10-31 11:13:20,279 INFO Request ID is 0aa4b09d-e8f8-42d7-9d58-b58191675139\n",
      "2025-10-31 11:13:20,603 INFO status has been updated to accepted\n",
      "2025-10-31 11:13:35,459 INFO status has been updated to running\n",
      "2025-10-31 11:16:16,627 INFO status has been updated to successful\n",
      "                                                                                          \r"
     ]
    },
    {
     "name": "stdout",
     "output_type": "stream",
     "text": [
      "Download for 2000 completed.\n",
      "Downloading 2001...\n"
     ]
    },
    {
     "name": "stderr",
     "output_type": "stream",
     "text": [
      "2025-10-31 11:16:29,116 INFO Request ID is 1369ecce-9316-4dac-8a0c-7d95424f563f\n",
      "2025-10-31 11:16:29,413 INFO status has been updated to accepted\n",
      "2025-10-31 11:22:54,705 INFO status has been updated to running\n",
      "2025-10-31 11:24:56,117 INFO status has been updated to successful\n",
      "                                                                                         \r"
     ]
    },
    {
     "name": "stdout",
     "output_type": "stream",
     "text": [
      "Download for 2001 completed.\n",
      "Downloading 2002...\n"
     ]
    },
    {
     "name": "stderr",
     "output_type": "stream",
     "text": [
      "2025-10-31 11:25:07,736 INFO Request ID is 80104cd2-ce31-4974-ba90-78cb9977194e\n",
      "2025-10-31 11:25:08,047 INFO status has been updated to accepted\n",
      "2025-10-31 11:25:42,348 INFO status has been updated to running\n",
      "2025-10-31 11:28:03,408 INFO status has been updated to successful\n",
      "                                                                                         \r"
     ]
    },
    {
     "name": "stdout",
     "output_type": "stream",
     "text": [
      "Download for 2002 completed.\n",
      "Downloading 2003...\n"
     ]
    },
    {
     "name": "stderr",
     "output_type": "stream",
     "text": [
      "2025-10-31 11:28:16,017 INFO Request ID is e7ab304e-0a59-4872-acc9-463dd74151c9\n",
      "2025-10-31 11:28:16,344 INFO status has been updated to accepted\n",
      "2025-10-31 11:28:31,214 INFO status has been updated to running\n",
      "2025-10-31 11:31:12,340 INFO status has been updated to successful\n",
      "                                                                                         \r"
     ]
    },
    {
     "name": "stdout",
     "output_type": "stream",
     "text": [
      "Download for 2003 completed.\n",
      "Downloading 2004...\n"
     ]
    },
    {
     "name": "stderr",
     "output_type": "stream",
     "text": [
      "2025-10-31 11:31:25,895 INFO Request ID is 14f31c62-5036-4955-b72b-7a8811f23a1d\n",
      "2025-10-31 11:31:26,192 INFO status has been updated to accepted\n",
      "2025-10-31 11:31:35,562 INFO status has been updated to running\n",
      "2025-10-31 11:34:21,715 INFO status has been updated to successful\n",
      "                                                                                         \r"
     ]
    },
    {
     "name": "stdout",
     "output_type": "stream",
     "text": [
      "Download for 2004 completed.\n",
      "Downloading 2005...\n"
     ]
    },
    {
     "name": "stderr",
     "output_type": "stream",
     "text": [
      "2025-10-31 11:34:36,448 INFO Request ID is a2ca8d1c-8778-4bb5-89f2-947c7188f757\n",
      "2025-10-31 11:34:36,743 INFO status has been updated to accepted\n",
      "2025-10-31 11:34:46,171 INFO status has been updated to running\n",
      "2025-10-31 11:37:32,277 INFO status has been updated to successful\n",
      "                                                                                         \r"
     ]
    },
    {
     "name": "stdout",
     "output_type": "stream",
     "text": [
      "Download for 2005 completed.\n",
      "Downloading 2006...\n"
     ]
    },
    {
     "name": "stderr",
     "output_type": "stream",
     "text": [
      "2025-10-31 11:37:50,004 INFO Request ID is dc304b2f-c891-4154-8e2f-a5e6333a00b6\n",
      "2025-10-31 11:37:50,314 INFO status has been updated to accepted\n",
      "2025-10-31 11:37:59,686 INFO status has been updated to running\n",
      "2025-10-31 11:40:46,159 INFO status has been updated to successful\n",
      "                                                                                         \r"
     ]
    },
    {
     "name": "stdout",
     "output_type": "stream",
     "text": [
      "Download for 2006 completed.\n",
      "Downloading 2007...\n"
     ]
    },
    {
     "name": "stderr",
     "output_type": "stream",
     "text": [
      "2025-10-31 11:40:58,067 INFO Request ID is 5474c6f6-3b1a-47d4-a792-e73bcd57f317\n",
      "2025-10-31 11:40:58,384 INFO status has been updated to accepted\n",
      "2025-10-31 11:41:13,177 INFO status has been updated to running\n",
      "2025-10-31 11:42:54,971 INFO status has been updated to successful\n",
      "                                                                                         \r"
     ]
    },
    {
     "name": "stdout",
     "output_type": "stream",
     "text": [
      "Download for 2007 completed.\n",
      "Downloading 2008...\n"
     ]
    },
    {
     "name": "stderr",
     "output_type": "stream",
     "text": [
      "2025-10-31 11:43:13,027 INFO Request ID is 81e22aec-d518-44d0-90a4-4154e251062c\n",
      "2025-10-31 11:43:13,327 INFO status has been updated to accepted\n",
      "2025-10-31 11:43:22,682 INFO status has been updated to running\n",
      "2025-10-31 11:47:37,068 INFO status has been updated to successful\n",
      "                                                                                         \r"
     ]
    },
    {
     "name": "stdout",
     "output_type": "stream",
     "text": [
      "Download for 2008 completed.\n",
      "Downloading 2009...\n"
     ]
    },
    {
     "name": "stderr",
     "output_type": "stream",
     "text": [
      "2025-10-31 11:47:49,199 INFO Request ID is a897dd4d-4249-4fed-a414-fe9d0c620d99\n",
      "2025-10-31 11:47:49,519 INFO status has been updated to accepted\n",
      "2025-10-31 11:48:04,326 INFO status has been updated to running\n",
      "2025-10-31 11:50:45,341 INFO status has been updated to successful\n",
      "                                                                                         \r"
     ]
    },
    {
     "name": "stdout",
     "output_type": "stream",
     "text": [
      "Download for 2009 completed.\n",
      "Downloading 2010...\n"
     ]
    },
    {
     "name": "stderr",
     "output_type": "stream",
     "text": [
      "2025-10-31 11:50:59,036 INFO Request ID is 83e28933-c511-4508-b3e8-13ba639298cd\n",
      "2025-10-31 11:50:59,339 INFO status has been updated to accepted\n",
      "2025-10-31 11:51:08,759 INFO status has been updated to running\n",
      "2025-10-31 11:51:14,999 INFO status has been updated to accepted\n",
      "2025-10-31 11:51:22,924 INFO status has been updated to running\n",
      "2025-10-31 11:53:55,880 INFO status has been updated to successful\n",
      "                                                                                         \r"
     ]
    },
    {
     "name": "stdout",
     "output_type": "stream",
     "text": [
      "Download for 2010 completed.\n",
      "Downloading 2011...\n"
     ]
    },
    {
     "name": "stderr",
     "output_type": "stream",
     "text": [
      "2025-10-31 11:54:08,833 INFO Request ID is 8686c47c-f995-40ca-83f8-b19288edaed4\n",
      "2025-10-31 11:54:09,144 INFO status has been updated to accepted\n",
      "2025-10-31 11:54:23,915 INFO status has been updated to running\n",
      "2025-10-31 11:57:04,897 INFO status has been updated to successful\n",
      "                                                                                         \r"
     ]
    },
    {
     "name": "stdout",
     "output_type": "stream",
     "text": [
      "Download for 2011 completed.\n",
      "Downloading 2012...\n"
     ]
    },
    {
     "name": "stderr",
     "output_type": "stream",
     "text": [
      "2025-10-31 11:57:21,553 INFO Request ID is 18d291f3-3394-4edd-8522-70dd89e13b77\n",
      "2025-10-31 11:57:21,867 INFO status has been updated to accepted\n",
      "2025-10-31 11:57:36,609 INFO status has been updated to running\n",
      "2025-10-31 12:00:17,806 INFO status has been updated to successful\n",
      "                                                                                          \r"
     ]
    },
    {
     "name": "stdout",
     "output_type": "stream",
     "text": [
      "Download for 2012 completed.\n",
      "Downloading 2013...\n"
     ]
    },
    {
     "name": "stderr",
     "output_type": "stream",
     "text": [
      "2025-10-31 12:00:28,744 INFO Request ID is 2d180e54-95d7-48c8-9dd2-19515049743b\n",
      "2025-10-31 12:00:29,103 INFO status has been updated to accepted\n",
      "2025-10-31 12:00:38,555 INFO status has been updated to running\n",
      "2025-10-31 12:00:51,849 INFO status has been updated to accepted\n",
      "2025-10-31 12:01:03,579 INFO status has been updated to running\n",
      "2025-10-31 12:02:25,774 INFO status has been updated to successful\n",
      "                                                                                         \r"
     ]
    },
    {
     "name": "stdout",
     "output_type": "stream",
     "text": [
      "Download for 2013 completed.\n",
      "Downloading 2014...\n"
     ]
    },
    {
     "name": "stderr",
     "output_type": "stream",
     "text": [
      "2025-10-31 12:02:39,102 INFO Request ID is 6b89c7e7-ee79-479f-a3da-64e95edbb4ae\n",
      "2025-10-31 12:02:39,435 INFO status has been updated to accepted\n",
      "2025-10-31 12:02:55,424 INFO status has been updated to running\n",
      "2025-10-31 12:04:37,284 INFO status has been updated to successful\n",
      "                                                                                         \r"
     ]
    },
    {
     "name": "stdout",
     "output_type": "stream",
     "text": [
      "Download for 2014 completed.\n",
      "Downloading 2015...\n"
     ]
    },
    {
     "name": "stderr",
     "output_type": "stream",
     "text": [
      "2025-10-31 12:04:52,335 INFO Request ID is 0c65705d-1015-427e-9ecd-c76a87689b01\n",
      "2025-10-31 12:04:53,469 INFO status has been updated to accepted\n",
      "2025-10-31 12:05:08,294 INFO status has been updated to running\n",
      "2025-10-31 12:07:49,032 INFO status has been updated to successful\n",
      "                                                                                         \r"
     ]
    },
    {
     "name": "stdout",
     "output_type": "stream",
     "text": [
      "Download for 2015 completed.\n",
      "Downloading 2016...\n"
     ]
    },
    {
     "name": "stderr",
     "output_type": "stream",
     "text": [
      "2025-10-31 12:08:04,861 INFO Request ID is ae0c7c5d-38e2-4927-b8bb-c0a17d812443\n",
      "2025-10-31 12:08:05,170 INFO status has been updated to accepted\n",
      "2025-10-31 12:08:29,083 INFO status has been updated to running\n",
      "2025-10-31 12:11:02,348 INFO status has been updated to successful\n",
      "                                                                                         \r"
     ]
    },
    {
     "name": "stdout",
     "output_type": "stream",
     "text": [
      "Download for 2016 completed.\n",
      "Downloading 2017...\n"
     ]
    },
    {
     "name": "stderr",
     "output_type": "stream",
     "text": [
      "2025-10-31 12:11:16,898 INFO Request ID is 00e625d7-9890-4e5a-b2b4-6d95ecd72b58\n",
      "2025-10-31 12:11:17,247 INFO status has been updated to accepted\n",
      "2025-10-31 12:11:32,248 INFO status has been updated to running\n",
      "2025-10-31 12:14:13,484 INFO status has been updated to successful\n",
      "                                                                                         \r"
     ]
    },
    {
     "name": "stdout",
     "output_type": "stream",
     "text": [
      "Download for 2017 completed.\n",
      "Downloading 2018...\n"
     ]
    },
    {
     "name": "stderr",
     "output_type": "stream",
     "text": [
      "2025-10-31 12:14:27,778 INFO Request ID is 827bc38f-7e57-4cc0-8f7d-31e4271b4bf3\n",
      "2025-10-31 12:14:28,087 INFO status has been updated to accepted\n",
      "2025-10-31 12:14:37,516 INFO status has been updated to running\n",
      "2025-10-31 12:17:23,954 INFO status has been updated to successful\n",
      "                                                                                         \r"
     ]
    },
    {
     "name": "stdout",
     "output_type": "stream",
     "text": [
      "Download for 2018 completed.\n",
      "Downloading 2019...\n"
     ]
    },
    {
     "name": "stderr",
     "output_type": "stream",
     "text": [
      "2025-10-31 12:17:35,467 INFO Request ID is b66e54db-a830-4c45-b261-0699068ce966\n",
      "2025-10-31 12:17:35,779 INFO status has been updated to accepted\n",
      "2025-10-31 12:17:50,522 INFO status has been updated to running\n",
      "2025-10-31 12:20:31,609 INFO status has been updated to successful\n",
      "                                                                                         \r"
     ]
    },
    {
     "name": "stdout",
     "output_type": "stream",
     "text": [
      "Download for 2019 completed.\n",
      "Downloading 2020...\n"
     ]
    },
    {
     "name": "stderr",
     "output_type": "stream",
     "text": [
      "2025-10-31 12:20:49,349 INFO Request ID is 59f42268-e129-47e7-8855-674948973415\n",
      "2025-10-31 12:20:49,662 INFO status has been updated to accepted\n",
      "2025-10-31 12:20:59,079 INFO status has been updated to running\n",
      "2025-10-31 12:21:04,509 INFO status has been updated to accepted\n",
      "2025-10-31 12:21:12,432 INFO status has been updated to running\n",
      "2025-10-31 12:22:46,321 INFO status has been updated to successful\n",
      "                                                                                         \r"
     ]
    },
    {
     "name": "stdout",
     "output_type": "stream",
     "text": [
      "Download for 2020 completed.\n",
      "Downloading 2021...\n"
     ]
    },
    {
     "name": "stderr",
     "output_type": "stream",
     "text": [
      "2025-10-31 12:23:05,423 INFO Request ID is 9d3efcbe-9a21-4570-828c-8b7b094d5661\n",
      "2025-10-31 12:23:05,747 INFO status has been updated to accepted\n",
      "2025-10-31 12:23:15,162 INFO status has been updated to running\n",
      "2025-10-31 12:25:02,572 INFO status has been updated to successful\n",
      "                                                                                         \r"
     ]
    },
    {
     "name": "stdout",
     "output_type": "stream",
     "text": [
      "Download for 2021 completed.\n",
      "Downloading 2022...\n"
     ]
    },
    {
     "name": "stderr",
     "output_type": "stream",
     "text": [
      "2025-10-31 12:25:19,887 INFO Request ID is 289e02a0-1abc-4719-a9b0-b8b1778a0677\n",
      "2025-10-31 12:25:20,212 INFO status has been updated to accepted\n",
      "2025-10-31 12:25:29,638 INFO status has been updated to running\n",
      "2025-10-31 12:27:16,887 INFO status has been updated to successful\n",
      "                                                                                         \r"
     ]
    },
    {
     "name": "stdout",
     "output_type": "stream",
     "text": [
      "Download for 2022 completed.\n",
      "Downloading 2023...\n"
     ]
    },
    {
     "name": "stderr",
     "output_type": "stream",
     "text": [
      "2025-10-31 12:27:33,174 INFO Request ID is ffbcd7e4-b75f-478d-b8ae-bc5b0ec5ac3d\n",
      "2025-10-31 12:27:33,482 INFO status has been updated to accepted\n",
      "2025-10-31 12:27:57,654 INFO status has been updated to running\n",
      "2025-10-31 12:29:31,595 INFO status has been updated to successful\n",
      "                                                                                         \r"
     ]
    },
    {
     "name": "stdout",
     "output_type": "stream",
     "text": [
      "Download for 2023 completed.\n",
      "Downloading 2024...\n"
     ]
    },
    {
     "name": "stderr",
     "output_type": "stream",
     "text": [
      "2025-10-31 12:29:57,224 INFO Request ID is 8c85558d-9ddb-4469-9773-01ab8b71643d\n",
      "2025-10-31 12:29:57,547 INFO status has been updated to accepted\n",
      "2025-10-31 12:30:12,376 INFO status has been updated to running\n",
      "2025-10-31 12:31:54,468 INFO status has been updated to successful\n",
      "                                                                                         \r"
     ]
    },
    {
     "name": "stdout",
     "output_type": "stream",
     "text": [
      "Download for 2024 completed.\n",
      "Downloading 2025...\n"
     ]
    },
    {
     "name": "stderr",
     "output_type": "stream",
     "text": [
      "2025-10-31 12:32:10,569 INFO Request ID is cf9f1616-947f-4803-979e-b611ea574cdd\n",
      "2025-10-31 12:32:10,901 INFO status has been updated to accepted\n",
      "2025-10-31 12:32:25,779 INFO status has been updated to running\n",
      "2025-10-31 12:32:33,696 INFO status has been updated to accepted\n",
      "2025-10-31 12:32:45,410 INFO status has been updated to running\n",
      "2025-10-31 12:34:07,590 INFO status has been updated to successful\n",
      "                                                                                          "
     ]
    },
    {
     "name": "stdout",
     "output_type": "stream",
     "text": [
      "Download for 2025 completed.\n"
     ]
    },
    {
     "name": "stderr",
     "output_type": "stream",
     "text": [
      "\r"
     ]
    }
   ],
   "source": [
    "c = cdsapi.Client()\n",
    "\n",
    "dataset = 'reanalysis-era5-single-levels'\n",
    "\n",
    "# nhiều năm\n",
    "for year in range(2000, 2026):\n",
    "     request = {\n",
    "          'product_type': 'reanalysis',\n",
    "          'variable': [\n",
    "               '2m_temperature', \n",
    "               '2m_dewpoint_temperature',\n",
    "               '10m_u_component_of_wind',\n",
    "               '10m_v_component_of_wind',\n",
    "               'total_precipitation',\n",
    "\n",
    "          ],\n",
    "          'date': f'{year}-01-01/{year}-12-31',\n",
    "          'area': [23.5, 102, 8.5, 110],\n",
    "          'format': 'netcdf', \n",
    "     }\n",
    "     target = f'download_{year}.zip'\n",
    "     print(f'Downloading {year}...')\n",
    "     c.retrieve(dataset, request, target)\n",
    "     print(f'Download for {year} completed.')"
   ]
  },
  {
   "cell_type": "code",
   "execution_count": 1,
   "id": "bf2534c9",
   "metadata": {},
   "outputs": [],
   "source": [
    "import xarray as xr\n",
    "import pandas as pd"
   ]
  },
  {
   "cell_type": "code",
   "execution_count": 32,
   "id": "7a5c3954",
   "metadata": {},
   "outputs": [
    {
     "name": "stdout",
     "output_type": "stream",
     "text": [
      "<class 'pandas.core.frame.DataFrame'>\n",
      "RangeIndex: 599874 entries, 0 to 599873\n",
      "Data columns (total 10 columns):\n",
      " #   Column      Non-Null Count   Dtype  \n",
      "---  ------      --------------   -----  \n",
      " 0   valid_time  599874 non-null  object \n",
      " 1   latitude    599874 non-null  float64\n",
      " 2   longitude   599874 non-null  float64\n",
      " 3   number      599874 non-null  int64  \n",
      " 4   expver      599874 non-null  int64  \n",
      " 5   t2m         599874 non-null  float64\n",
      " 6   d2m         599874 non-null  float64\n",
      " 7   u10         599874 non-null  float64\n",
      " 8   v10         599874 non-null  float64\n",
      " 9   tp          599874 non-null  float64\n",
      "dtypes: float64(7), int64(2), object(1)\n",
      "memory usage: 45.8+ MB\n"
     ]
    }
   ],
   "source": [
    "# mở file instant\n",
    "ds_instant = xr.open_dataset(\"download_2025/data_stream-oper_stepType-instant.nc\", engine='netcdf4')\n",
    "# mở file accum\n",
    "ds_accum = xr.open_dataset(\"download_2025/data_stream-oper_stepType-accum.nc\", engine='netcdf4')\n",
    "# gộp 2 dataset\n",
    "ds = xr.merge([ds_instant, ds_accum])\n",
    "# chuyển sang dataframe\n",
    "df = ds.to_dataframe().reset_index()\n",
    "\n",
    "# lưu csv\n",
    "df.to_csv(\"era5_2025.csv\", index=False)\n",
    "df = pd.read_csv('era5_2025.csv')\n",
    "df.info()"
   ]
  },
  {
   "cell_type": "code",
   "execution_count": null,
   "id": "b90ffc05",
   "metadata": {},
   "outputs": [],
   "source": []
  }
 ],
 "metadata": {
  "kernelspec": {
   "display_name": "work",
   "language": "python",
   "name": "python3"
  },
  "language_info": {
   "codemirror_mode": {
    "name": "ipython",
    "version": 3
   },
   "file_extension": ".py",
   "mimetype": "text/x-python",
   "name": "python",
   "nbconvert_exporter": "python",
   "pygments_lexer": "ipython3",
   "version": "3.10.0"
  }
 },
 "nbformat": 4,
 "nbformat_minor": 5
}
