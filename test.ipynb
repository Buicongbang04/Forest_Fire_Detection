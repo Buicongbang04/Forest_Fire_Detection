{
 "cells": [
  {
   "cell_type": "code",
   "execution_count": 1,
   "id": "fb50a5ee",
   "metadata": {},
   "outputs": [],
   "source": [
    "import cdsapi"
   ]
  },
  {
   "cell_type": "code",
   "execution_count": null,
   "id": "f51e2912",
   "metadata": {},
   "outputs": [],
   "source": [
    "c = cdsapi.Client()\n",
    "\n",
    "dataset = 'reanalysis-era5-single-levels'\n",
    "\n",
    "# nhiều năm\n",
    "for year in range(2000, 2026):\n",
    "     request = {\n",
    "          'product_type': 'reanalysis',\n",
    "          'variable': [\n",
    "               '2m_temperature', \n",
    "               '2m_dewpoint_temperature',\n",
    "               '10m_u_component_of_wind',\n",
    "               '10m_v_component_of_wind',\n",
    "               'total_precipitation',\n",
    "\n",
    "          ],\n",
    "          'date': f'{year}-01-01/{year}-12-31',\n",
    "          'area': [23.5, 102, 8.5, 110],\n",
    "          'format': 'netcdf', \n",
    "     }\n",
    "     target = f'download_{year}.zip'\n",
    "     print(f'Downloading {year}...')\n",
    "     c.retrieve(dataset, request, target)\n",
    "     print(f'Download for {year} completed.')"
   ]
  },
  {
   "cell_type": "code",
   "execution_count": 1,
   "id": "bf2534c9",
   "metadata": {},
   "outputs": [],
   "source": [
    "import xarray as xr\n",
    "import pandas as pd"
   ]
  },
  {
   "cell_type": "code",
   "execution_count": 32,
   "id": "7a5c3954",
   "metadata": {},
   "outputs": [
    {
     "name": "stdout",
     "output_type": "stream",
     "text": [
      "<class 'pandas.core.frame.DataFrame'>\n",
      "RangeIndex: 599874 entries, 0 to 599873\n",
      "Data columns (total 10 columns):\n",
      " #   Column      Non-Null Count   Dtype  \n",
      "---  ------      --------------   -----  \n",
      " 0   valid_time  599874 non-null  object \n",
      " 1   latitude    599874 non-null  float64\n",
      " 2   longitude   599874 non-null  float64\n",
      " 3   number      599874 non-null  int64  \n",
      " 4   expver      599874 non-null  int64  \n",
      " 5   t2m         599874 non-null  float64\n",
      " 6   d2m         599874 non-null  float64\n",
      " 7   u10         599874 non-null  float64\n",
      " 8   v10         599874 non-null  float64\n",
      " 9   tp          599874 non-null  float64\n",
      "dtypes: float64(7), int64(2), object(1)\n",
      "memory usage: 45.8+ MB\n"
     ]
    }
   ],
   "source": [
    "# mở file instant\n",
    "ds_instant = xr.open_dataset(\"download_2025/data_stream-oper_stepType-instant.nc\", engine='netcdf4')\n",
    "# mở file accum\n",
    "ds_accum = xr.open_dataset(\"download_2025/data_stream-oper_stepType-accum.nc\", engine='netcdf4')\n",
    "# gộp 2 dataset\n",
    "ds = xr.merge([ds_instant, ds_accum])\n",
    "# chuyển sang dataframe\n",
    "df = ds.to_dataframe().reset_index()\n",
    "\n",
    "# lưu csv\n",
    "df.to_csv(\"era5_2025.csv\", index=False)\n",
    "df = pd.read_csv('era5_2025.csv')\n",
    "df.info()"
   ]
  }
 ],
 "metadata": {
  "kernelspec": {
   "display_name": "work",
   "language": "python",
   "name": "python3"
  },
  "language_info": {
   "codemirror_mode": {
    "name": "ipython",
    "version": 3
   },
   "file_extension": ".py",
   "mimetype": "text/x-python",
   "name": "python",
   "nbconvert_exporter": "python",
   "pygments_lexer": "ipython3",
   "version": "3.10.0"
  }
 },
 "nbformat": 4,
 "nbformat_minor": 5
}
